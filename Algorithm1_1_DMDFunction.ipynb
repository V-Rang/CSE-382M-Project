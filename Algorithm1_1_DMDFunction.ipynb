{
  "nbformat": 4,
  "nbformat_minor": 0,
  "metadata": {
    "colab": {
      "provenance": [],
      "authorship_tag": "ABX9TyMsH+LeI0PSrTfIkAMXhDut",
      "include_colab_link": true
    },
    "kernelspec": {
      "name": "python3",
      "display_name": "Python 3"
    },
    "language_info": {
      "name": "python"
    }
  },
  "cells": [
    {
      "cell_type": "markdown",
      "metadata": {
        "id": "view-in-github",
        "colab_type": "text"
      },
      "source": [
        "<a href=\"https://colab.research.google.com/github/V-Rang/CSE-382M-Project/blob/main/Algorithm1_1_DMDFunction.ipynb\" target=\"_parent\"><img src=\"https://colab.research.google.com/assets/colab-badge.svg\" alt=\"Open In Colab\"/></a>"
      ]
    },
    {
      "cell_type": "code",
      "source": [
        "#function arguments: X, r, dt\n",
        "#Algorithm 1.1 from DMD textbook\n",
        "#Things to think about: b = Phi\\x1 -> calculates Moore-Penrose pseduoinvere. We could implement a Least Squares solution to compute b in Phi X b = x1\n",
        "\n",
        "import numpy as np\n",
        "import math\n",
        "X = np.array([[1,2,3,14],\n",
        "     [4,5,6,15],\n",
        "     [7,8,9,16],\n",
        "     [17,18,19,20]])\n",
        "num_modes = 2\n",
        "dt = 2\n",
        "# t = 6\n",
        "\n",
        "X1 = X[:,:-1]\n",
        "X2 = X[:,1:]\n",
        "U,S,VT = np.linalg.svd(X1)\n",
        "V = VT.T\n",
        "S = np.diag(S)\n",
        "Ur = U[:,:num_modes]\n",
        "Sr = S[:num_modes,:num_modes]\n",
        "Vr = V[:,:num_modes]\n",
        "\n",
        "\n",
        "Atilde = Ur.T@X2@Vr@np.linalg.inv(Sr)\n",
        "[eigvals,eigvecs] = np.linalg.eig(Atilde)\n",
        "eigvals = np.diag(eigvals)\n",
        "Phi = X2@Vr@np.linalg.inv(Sr)@eigvecs\n",
        "lam = np.diag(eigvals)\n",
        "omega = []\n",
        "for value in lam:\n",
        "  omega.append(math.log(value,math.e)/dt)\n",
        "\n",
        "# print(eigvals,'\\n')\n",
        "# print(lam,'\\n')\n",
        "# print(omega)\n",
        "\n",
        "#Computing DMD solution\n",
        "x1 = X[:,1]\n",
        "b = np.linalg.pinv(Phi)@x1\n",
        "mm1 = X1.shape[1]\n",
        "\n",
        "time_dynamics = np.zeros( (num_modes,mm1) )\n",
        "t = np.arange(0,mm1)*dt\n",
        "\n",
        "# print(time_dynamics,'\\n')\n",
        "\n",
        "for iter in range(0,mm1):\n",
        "  time_dynamics[:,iter] = np.multiply(omega,t[iter])\n",
        "\n",
        "Xdmd = Phi@time_dynamics\n",
        "\n",
        "print(X,'\\n')\n",
        "print(Xdmd)\n",
        "\n",
        "\n",
        "# lam = np.diag(eigvals)\n",
        "\n",
        "\n",
        "# print(Ur.T.shape)\n",
        "# print(X2.shape)\n",
        "# print(Vr.shape)\n",
        "# print(Sr.shape)\n",
        "\n",
        "\n",
        "# print(Ur@Sr@Vr)\n",
        "\n",
        "# print(VT,'\\n')\n",
        "# print(V`r)"
      ],
      "metadata": {
        "colab": {
          "base_uri": "https://localhost:8080/"
        },
        "id": "PJrm6n_MFtjt",
        "outputId": "f7b1d79b-756e-428b-85c1-e710abc2a6f4"
      },
      "execution_count": 137,
      "outputs": [
        {
          "output_type": "stream",
          "name": "stdout",
          "text": [
            "[[ 1  2  3 14]\n",
            " [ 4  5  6 15]\n",
            " [ 7  8  9 16]\n",
            " [17 18 19 20]] \n",
            "\n",
            "[[ 0.          8.2055133  16.41102659]\n",
            " [ 0.          6.56992548 13.13985095]\n",
            " [ 0.          4.93433766  9.86867531]\n",
            " [ 0.         -0.05150844 -0.10301688]]\n"
          ]
        }
      ]
    }
  ]
}